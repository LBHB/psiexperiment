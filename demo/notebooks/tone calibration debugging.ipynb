{
 "cells": [
  {
   "cell_type": "code",
   "execution_count": 1,
   "metadata": {
    "collapsed": true
   },
   "outputs": [],
   "source": [
    "import numpy as np\n",
    "import pylab as pl\n",
    "import enaml\n",
    "\n",
    "with enaml.imports():\n",
    "    from psi.application.io import pika\n",
    "    from psi.controller.calibration import tone\n",
    "\n",
    "%matplotlib inline"
   ]
  },
  {
   "cell_type": "code",
   "execution_count": 2,
   "metadata": {},
   "outputs": [],
   "source": [
    "io_manifest = pika.IOManifest()\n",
    "audio_engine = io_manifest.find('NI_audio')\n",
    "frequencies = [250, 500, 1000, 2000, 4000, 8000, 16000, 32000]"
   ]
  },
  {
   "cell_type": "code",
   "execution_count": 3,
   "metadata": {
    "collapsed": true
   },
   "outputs": [],
   "source": [
    "mic_channel = audio_engine.get_channel('microphone_channel')\n",
    "mic_channel.gain = 40"
   ]
  },
  {
   "cell_type": "code",
   "execution_count": 4,
   "metadata": {
    "scrolled": false
   },
   "outputs": [
    {
     "name": "stdout",
     "output_type": "stream",
     "text": [
      "Samples requested 1000000\n",
      "Samples requested 900000\n",
      "Samples requested 890000\n",
      "Samples requested 880000\n",
      "Samples requested 870000\n",
      "Samples requested 860000\n",
      "Samples requested 850000\n",
      "Samples requested 840000\n",
      "Samples requested 830000\n",
      "Samples requested 820000\n",
      "Samples requested 810000\n",
      "Samples requested 800000\n",
      "Samples requested 790000\n",
      "Samples requested 780000\n",
      "Samples requested 770000\n",
      "Samples requested 760000\n",
      "Samples requested 750000\n",
      "Samples requested 740000\n",
      "Samples requested 730000\n",
      "18\n",
      "Samples requested 12500\n",
      "18\n",
      "Samples requested 12500\n",
      "18\n",
      "Samples requested 12500\n",
      "18\n",
      "Samples requested 12500\n",
      "18\n",
      "18\n",
      "Samples requested 12500\n",
      "18\n",
      "Samples requested 12500\n",
      "18\n",
      "Samples requested 12500\n",
      "18\n",
      "Samples requested 12500\n",
      "18\n",
      "18\n",
      "Samples requested 12500\n",
      "18\n",
      "Samples requested 12500\n",
      "18\n",
      "Samples requested 12500\n",
      "18\n",
      "Samples requested 12500\n",
      "18\n",
      "Samples requested 12500\n",
      "18\n",
      "18\n",
      "Samples requested 12500\n",
      "18\n",
      "Samples requested 12500\n",
      "18\n",
      "Samples requested 12500\n",
      "18\n",
      "Samples requested 12500\n",
      "18\n",
      "18\n",
      "Samples requested 12500\n",
      "18\n",
      "Samples requested 12500\n",
      "18\n",
      "Samples requested 12500\n",
      "18\n",
      "Samples requested 12500\n",
      "18\n",
      "18\n",
      "Samples requested 12500\n",
      "18\n",
      "Samples requested 12500\n",
      "18\n",
      "Samples requested 12500\n",
      "18\n"
     ]
    }
   ],
   "source": [
    "result = tone.tone_sens(\n",
    "    frequencies=frequencies,\n",
    "    engine=audio_engine,\n",
    "    ao_channel_name='speaker_1',\n",
    "    ai_channel_names=['microphone_channel'],\n",
    "    gain=-30,\n",
    "    debug=True,\n",
    "    duration=0.1,\n",
    "    iti=0,\n",
    "    trim=0.01,\n",
    ")"
   ]
  },
  {
   "cell_type": "code",
   "execution_count": 5,
   "metadata": {},
   "outputs": [
    {
     "name": "stdout",
     "output_type": "stream",
     "text": [
      "                rms       thd         spl    norm_spl\n",
      "frequency                                            \n",
      "250        0.001480  0.214547   73.954575  103.954575\n",
      "500        0.007051  0.216414   86.947098  116.947098\n",
      "1000       0.014236  0.321214   92.084071  122.084071\n",
      "2000       0.020320  0.366212   92.208692  122.208692\n",
      "4000       0.028816  0.509085  100.064931  130.064931\n",
      "8000       0.000644  0.065779   71.245132  101.245132\n",
      "16000      0.000045  0.886188   45.893163   75.893163\n",
      "32000      0.000073  1.391970   48.281711   78.281711\n"
     ]
    }
   ],
   "source": [
    "c = result.loc['microphone_channel', ['rms', 'thd', 'spl', 'norm_spl']]\n",
    "print(c)"
   ]
  },
  {
   "cell_type": "code",
   "execution_count": null,
   "metadata": {
    "scrolled": false
   },
   "outputs": [],
   "source": [
    "f, axes = pl.subplots(len(frequencies), 2, \n",
    "                      sharex=True, figsize=(12, 12))\n",
    "\n",
    "for frequency, (ax1, ax2) in zip(frequencies, axes):\n",
    "    w = result.loc['microphone_channel', frequency]['waveform']\n",
    "    ax1.set_title(frequency)\n",
    "    ax2.set_title(frequency)\n",
    "    ax1.plot(w[0])\n",
    "    ax2.plot(w[1])\n",
    "    ax1.axis(xmin=0, xmax=2000)"
   ]
  },
  {
   "cell_type": "code",
   "execution_count": null,
   "metadata": {
    "collapsed": true
   },
   "outputs": [],
   "source": []
  }
 ],
 "metadata": {
  "kernelspec": {
   "display_name": "Python 3",
   "language": "python",
   "name": "python3"
  },
  "language_info": {
   "codemirror_mode": {
    "name": "ipython",
    "version": 3
   },
   "file_extension": ".py",
   "mimetype": "text/x-python",
   "name": "python",
   "nbconvert_exporter": "python",
   "pygments_lexer": "ipython3",
   "version": "3.6.2"
  }
 },
 "nbformat": 4,
 "nbformat_minor": 2
}
