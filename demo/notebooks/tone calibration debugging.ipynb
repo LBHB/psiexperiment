{
 "cells": [
  {
   "cell_type": "code",
   "execution_count": 2,
   "metadata": {},
   "outputs": [],
   "source": [
    "import numpy as np\n",
    "import pylab as pl\n",
    "import enaml\n",
    "\n",
    "with enaml.imports():\n",
    "    from psi.application.io import pika\n",
    "    from psi.controller.calibration import tone\n",
    "\n",
    "%matplotlib inline"
   ]
  },
  {
   "cell_type": "code",
   "execution_count": 3,
   "metadata": {
    "collapsed": true
   },
   "outputs": [],
   "source": [
    "io_manifest = pika.IOManifest()\n",
    "audio_engine = io_manifest.find('NI_audio')\n",
    "frequencies = [250, 500, 1000, 2000, 4000, 8000, 16000, 32000]"
   ]
  },
  {
   "cell_type": "code",
   "execution_count": 4,
   "metadata": {
    "collapsed": true
   },
   "outputs": [],
   "source": [
    "mic_channel = audio_engine.get_channel('microphone_channel')\n",
    "mic_channel.gain = 40"
   ]
  },
  {
   "cell_type": "code",
   "execution_count": 29,
   "metadata": {
    "scrolled": false
   },
   "outputs": [],
   "source": [
    "result = tone.tone_sens(\n",
    "    frequencies=frequencies,\n",
    "    engine=audio_engine,\n",
    "    ao_channel_name='speaker_1',\n",
    "    ai_channel_names=['microphone_channel'],\n",
    "    gain=-40,\n",
    "    debug=True,\n",
    "    duration=0.1,\n",
    "    iti=0,\n",
    "    trim=0.01,\n",
    ")"
   ]
  },
  {
   "cell_type": "code",
   "execution_count": 30,
   "metadata": {},
   "outputs": [],
   "source": [
    "w = result.loc[('microphone_channel', 2000), 'waveform']"
   ]
  },
  {
   "cell_type": "code",
   "execution_count": 31,
   "metadata": {},
   "outputs": [],
   "source": [
    "def tone_power_conv(s, fs, frequency, window=None):\n",
    "    frequency_shape = tuple([Ellipsis] + [np.newaxis]*s.ndim)\n",
    "    frequency = np.asarray(frequency)[frequency_shape]\n",
    "    s = signal.detrend(s, type='linear', axis=-1)\n",
    "    n = s.shape[-1]\n",
    "    if window is not None:\n",
    "        w = signal.get_window(window, n)\n",
    "        s = w/w.mean()*s\n",
    "    t = np.arange(n)/fs\n",
    "    r = 2.0*s*np.exp(-1.0j*(2.0*np.pi*t*frequency))\n",
    "    return r"
   ]
  },
  {
   "cell_type": "code",
   "execution_count": 32,
   "metadata": {},
   "outputs": [],
   "source": [
    "from scipy import signal\n",
    "r = tone_power_conv(w, 100e3, 2000)"
   ]
  },
  {
   "cell_type": "code",
   "execution_count": 42,
   "metadata": {
    "collapsed": true
   },
   "outputs": [],
   "source": [
    "f = util.psd_freq(w, 100e3)"
   ]
  },
  {
   "cell_type": "code",
   "execution_count": 45,
   "metadata": {},
   "outputs": [
    {
     "data": {
      "text/plain": [
       "array([160], dtype=int32)"
      ]
     },
     "execution_count": 45,
     "metadata": {},
     "output_type": "execute_result"
    }
   ],
   "source": [
    "np.flatnonzero(f == 2000)"
   ]
  },
  {
   "cell_type": "code",
   "execution_count": 46,
   "metadata": {},
   "outputs": [
    {
     "data": {
      "text/plain": [
       "array([-2.53917079, -2.53947194])"
      ]
     },
     "execution_count": 46,
     "metadata": {},
     "output_type": "execute_result"
    }
   ],
   "source": [
    "c = util.csd(w, 100e3,)\n",
    "np.angle(c[..., 160])"
   ]
  },
  {
   "cell_type": "code",
   "execution_count": 39,
   "metadata": {},
   "outputs": [
    {
     "data": {
      "text/plain": [
       "array([ 3.14159265,  3.14159265])"
      ]
     },
     "execution_count": 39,
     "metadata": {},
     "output_type": "execute_result"
    }
   ],
   "source": [
    "np.angle(r)[..., 0]"
   ]
  },
  {
   "cell_type": "code",
   "execution_count": 35,
   "metadata": {},
   "outputs": [
    {
     "data": {
      "text/plain": [
       "[<matplotlib.lines.Line2D at 0x10e2b650>]"
      ]
     },
     "execution_count": 35,
     "metadata": {},
     "output_type": "execute_result"
    },
    {
     "data": {
      "image/png": "[encoded data removed]",
      "text/plain": [
       "<matplotlib.figure.Figure at 0x10dbfb10>"
      ]
     },
     "metadata": {},
     "output_type": "display_data"
    }
   ],
   "source": [
    "pl.plot(w[1, :200], 'k.')"
   ]
  },
  {
   "cell_type": "markdown",
   "metadata": {},
   "source": []
  },
  {
   "cell_type": "code",
   "execution_count": 37,
   "metadata": {},
   "outputs": [
    {
     "data": {
      "text/plain": [
       "[<matplotlib.lines.Line2D at 0x1206dc10>]"
      ]
     },
     "execution_count": 37,
     "metadata": {},
     "output_type": "execute_result"
    },
    {
     "data": {
      "image/png": "[encoded data removed]",
      "text/plain": [
       "<matplotlib.figure.Figure at 0x10d4e4f0>"
      ]
     },
     "metadata": {},
     "output_type": "display_data"
    }
   ],
   "source": [
    "#pl.plot(np.unwrap(np.angle(r))[0, :200], 'k.')"
   ]
  },
  {
   "cell_type": "code",
   "execution_count": 6,
   "metadata": {},
   "outputs": [
    {
     "name": "stdout",
     "output_type": "stream",
     "text": [
      "                rms         thd         spl    norm_spl\n",
      "frequency                                              \n",
      "250        0.006768    1.461421   87.156295  117.156295\n",
      "500        0.039462    3.261313  101.905409  131.905409\n",
      "1000       0.057336    2.142706  104.185083  134.185083\n",
      "2000       0.083099   17.473877  104.442316  134.442316\n",
      "4000       0.047972  115.051948  104.491930  134.491930\n",
      "8000       0.015682    0.261288   98.980658  128.980658\n",
      "16000      0.000556    0.098645   67.748932   97.748932\n",
      "32000      0.000482    0.336676   64.688032   94.688032\n"
     ]
    }
   ],
   "source": [
    "c = result.loc['microphone_channel', ['rms', 'thd', 'spl', 'norm_spl']]\n",
    "print(c)"
   ]
  },
  {
   "cell_type": "code",
   "execution_count": null,
   "metadata": {
    "collapsed": true,
    "scrolled": false
   },
   "outputs": [],
   "source": [
    "f, axes = pl.subplots(len(frequencies), 2, \n",
    "                      sharex=True, figsize=(12, 12))\n",
    "\n",
    "for frequency, (ax1, ax2) in zip(frequencies, axes):\n",
    "    w = result.loc['microphone_channel', frequency]['waveform']\n",
    "    ax1.set_title(frequency)\n",
    "    ax2.set_title(frequency)\n",
    "    ax1.plot(w[0])\n",
    "    ax2.plot(w[1])\n",
    "    ax1.axis(xmin=0, xmax=2000)"
   ]
  },
  {
   "cell_type": "code",
   "execution_count": null,
   "metadata": {
    "collapsed": true
   },
   "outputs": [],
   "source": []
  }
 ],
 "metadata": {
  "kernelspec": {
   "display_name": "Python 3",
   "language": "python",
   "name": "python3"
  },
  "language_info": {
   "codemirror_mode": {
    "name": "ipython",
    "version": 3
   },
   "file_extension": ".py",
   "mimetype": "text/x-python",
   "name": "python",
   "nbconvert_exporter": "python",
   "pygments_lexer": "ipython3",
   "version": "3.6.2"
  }
 },
 "nbformat": 4,
 "nbformat_minor": 2
}
