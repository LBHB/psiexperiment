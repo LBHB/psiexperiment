{
 "cells": [
  {
   "cell_type": "code",
   "execution_count": null,
   "metadata": {
    "collapsed": true
   },
   "outputs": [],
   "source": [
    "import pylab as pl\n",
    "%matplotlib inline"
   ]
  },
  {
   "cell_type": "markdown",
   "metadata": {},
   "source": [
    "# Calibration\n",
    "\n",
    "Several types of calibrations are supported. The simplest calibration assumes that frequency response is \"flat\". In other words, if you send a 1V RMS tone to the speaker, it will always produce the same output level regardless of frequency. You can also have calibrations that compensate for variations in speaker output as a function of frequency.\n",
    "\n",
    "For simplicity, let's assume our speaker's response is flat. First, import the calibration class that supports flat calibrations."
   ]
  },
  {
   "cell_type": "code",
   "execution_count": null,
   "metadata": {},
   "outputs": [],
   "source": [
    "from psi.controller.calibration import FlatCalibration"
   ]
  },
  {
   "cell_type": "markdown",
   "metadata": {},
   "source": [
    "Now, let's assume that when we play a 1V RMS tone through the speaker, it produces an output of 114 dB SPL. Sensitivity of acoustic systems are almost always reported in volts per Pascal. 114 dB SPL is 10 Pascals. This means that the sensitivity of the speaker is 0.1 Volt per Pascal.\n",
    "\n",
    "By design, the sensitivity must be converted to dB(volts/Pascal) when initializing the calibration. This translates to a value of -20 dB(V/Pa) for a sensitivity of 0.1 V/Pa."
   ]
  },
  {
   "cell_type": "code",
   "execution_count": null,
   "metadata": {
    "collapsed": true
   },
   "outputs": [],
   "source": [
    "calibration = FlatCalibration(-20)"
   ]
  },
  {
   "cell_type": "markdown",
   "metadata": {},
   "source": [
    "One Pascal is 94 dB. Let's see if this works. The method, `Calibration.get_sf` gives us the RMS amplitude of the waveform needed to generate a tone at the given frequency and level. We would expect the RMS value to be 0.1."
   ]
  },
  {
   "cell_type": "code",
   "execution_count": null,
   "metadata": {},
   "outputs": [],
   "source": [
    "rms_amplitude = calibration.get_sf(frequency=1000, spl=94)\n",
    "print(rms_amplitude)"
   ]
  },
  {
   "cell_type": "markdown",
   "metadata": {},
   "source": [
    "Remember that 6 dB translates to half on a linear scale. Let's confirm this works."
   ]
  },
  {
   "cell_type": "code",
   "execution_count": null,
   "metadata": {},
   "outputs": [],
   "source": [
    "rms_amplitude = calibration.get_sf(frequency=1000, spl=94-6)\n",
    "print(rms_amplitude)"
   ]
  },
  {
   "cell_type": "markdown",
   "metadata": {},
   "source": [
    "# Generating stimuli\n",
    "\n",
    "## Introduction\n",
    "\n",
    "Now that we've defined our calibration, we can generate a stimulus waveform. Let's start with the simplest possible type of stimulus, a tone. First, we import the ToneFactory class and create an instance."
   ]
  },
  {
   "cell_type": "code",
   "execution_count": null,
   "metadata": {
    "collapsed": true
   },
   "outputs": [],
   "source": [
    "from psi.token.primitives import ToneFactory\n",
    "\n",
    "tone = ToneFactory(fs=100000, frequency=1000, \n",
    "                   level=94, calibration=calibration)"
   ]
  },
  {
   "cell_type": "markdown",
   "metadata": {},
   "source": [
    "Note that we had to provide the sampling frequency the tone must be generated at along with other stimulus parameters.\n",
    "\n",
    "The instance supports several methods that are used by psiexperiment to properly handle the tone. For example, we need to know how long the stimulus is."
   ]
  },
  {
   "cell_type": "code",
   "execution_count": null,
   "metadata": {},
   "outputs": [],
   "source": [
    "tone.get_duration()"
   ]
  },
  {
   "cell_type": "markdown",
   "metadata": {},
   "source": [
    "This means the tone can run continuously for the full duration of the experiment. You may use a continuous waveform (e.g., bandlimited noise) for generating a background masker.\n",
    "\n",
    "Let's get the first 5000 samples of the tone."
   ]
  },
  {
   "cell_type": "code",
   "execution_count": null,
   "metadata": {},
   "outputs": [],
   "source": [
    "waveform = tone.next(5000)\n",
    "\n",
    "pl.plot(waveform)"
   ]
  },
  {
   "cell_type": "markdown",
   "metadata": {},
   "source": [
    "Let's get the next 1000 samples."
   ]
  },
  {
   "cell_type": "code",
   "execution_count": null,
   "metadata": {},
   "outputs": [],
   "source": [
    "waveform = tone.next(1000)\n",
    "\n",
    "pl.plot(waveform)"
   ]
  },
  {
   "cell_type": "markdown",
   "metadata": {},
   "source": [
    "As you can see, a factory supports *incremential* generation of waveforms. This enables us to generate infinitely long waveforms (such as maskers) that never repeat.\n",
    "\n",
    "## More complex stimuli\n",
    "\n",
    "Tones are boring. Let's look at a more interesting type of stimulus. Sinusoidally-amplitude modulated noise with a cosine-squared onset/offset ramp."
   ]
  },
  {
   "cell_type": "code",
   "execution_count": null,
   "metadata": {
    "collapsed": true
   },
   "outputs": [],
   "source": [
    "from psi.token.primitives import BandlimitedNoiseFactory, SAMEnvelopeFactory, Cos2EnvelopeFactory"
   ]
  },
  {
   "cell_type": "code",
   "execution_count": null,
   "metadata": {
    "collapsed": true
   },
   "outputs": [],
   "source": [
    "noise = BandlimitedNoiseFactory(fs=100000, seed=0, level=94, fl=2000, \n",
    "                                fh=8000,  filter_rolloff=6, \n",
    "                                passband_attenuation=1, \n",
    "                                stopband_attenuation=80,\n",
    "                                equalize=False, calibration=calibration)"
   ]
  },
  {
   "cell_type": "markdown",
   "metadata": {},
   "source": [
    "Like tone factories, the bandlimited noise factory can run forever if you want it to."
   ]
  },
  {
   "cell_type": "code",
   "execution_count": null,
   "metadata": {},
   "outputs": [],
   "source": [
    "noise.get_duration()"
   ]
  },
  {
   "cell_type": "code",
   "execution_count": null,
   "metadata": {},
   "outputs": [],
   "source": [
    "waveform = noise.next(5000)\n",
    "pl.plot(waveform)"
   ]
  },
  {
   "cell_type": "markdown",
   "metadata": {},
   "source": [
    "Now, let's embed the noise in a sinusoidally amplitude-modulated (SAM) envelope. Note that when we create this factory, we provide the noise we created as an argument to the parameter `input_waveform`."
   ]
  },
  {
   "cell_type": "code",
   "execution_count": null,
   "metadata": {
    "collapsed": true
   },
   "outputs": [],
   "source": [
    "sam_envelope = SAMEnvelopeFactory(fs=100000, depth=1, fm=5,\n",
    "                                  delay=1, direction=1, \n",
    "                                  calibration=calibration, \n",
    "                                  input_factory=noise)"
   ]
  },
  {
   "cell_type": "code",
   "execution_count": null,
   "metadata": {},
   "outputs": [],
   "source": [
    "sam_envelope.get_duration()"
   ]
  },
  {
   "cell_type": "code",
   "execution_count": null,
   "metadata": {},
   "outputs": [],
   "source": [
    "waveform = sam_envelope.next(100000*2)\n",
    "pl.plot(waveform)"
   ]
  },
  {
   "cell_type": "markdown",
   "metadata": {},
   "source": [
    "Now, embed the SAM noise inside a cosine-squared envelope."
   ]
  },
  {
   "cell_type": "code",
   "execution_count": null,
   "metadata": {
    "collapsed": true
   },
   "outputs": [],
   "source": [
    "cos_envelope = Cos2EnvelopeFactory(fs=100000, start_time=0,\n",
    "                                   rise_time=0.25, duration=4,\n",
    "                                   calibration=calibration, \n",
    "                                   input_factory=sam_envelope)"
   ]
  },
  {
   "cell_type": "code",
   "execution_count": null,
   "metadata": {},
   "outputs": [],
   "source": [
    "cos_envelope.get_duration()"
   ]
  },
  {
   "cell_type": "markdown",
   "metadata": {},
   "source": [
    "By definition, a cosine-squared envelope has a finite duration. Let's plot the first two seconds."
   ]
  },
  {
   "cell_type": "code",
   "execution_count": null,
   "metadata": {},
   "outputs": [],
   "source": [
    "waveform = cos_envelope.next(100000*2)\n",
    "pl.plot(waveform)"
   ]
  },
  {
   "cell_type": "markdown",
   "metadata": {},
   "source": [
    "Now, the next two seconds."
   ]
  },
  {
   "cell_type": "code",
   "execution_count": null,
   "metadata": {},
   "outputs": [],
   "source": [
    "waveform = cos_envelope.next(100000*2)\n",
    "pl.plot(waveform)"
   ]
  },
  {
   "cell_type": "markdown",
   "metadata": {},
   "source": [
    "What happens if we keep going? Remember the duration of the stimulus is only 4 seconds."
   ]
  },
  {
   "cell_type": "code",
   "execution_count": null,
   "metadata": {},
   "outputs": [],
   "source": [
    "waveform = cos_envelope.next(100000*2)\n",
    "pl.plot(waveform)"
   ]
  },
  {
   "cell_type": "markdown",
   "metadata": {},
   "source": [
    "That's because the stimulus is over. We can check that this is the case."
   ]
  },
  {
   "cell_type": "code",
   "execution_count": null,
   "metadata": {},
   "outputs": [],
   "source": [
    "cos_envelope.is_complete()"
   ]
  },
  {
   "cell_type": "markdown",
   "metadata": {},
   "source": [
    "What if we want to start over at the beginning? Reset it."
   ]
  },
  {
   "cell_type": "code",
   "execution_count": null,
   "metadata": {},
   "outputs": [],
   "source": [
    "cos_envelope.reset()\n",
    "waveform = cos_envelope.next(100000*4)\n",
    "pl.plot(waveform)"
   ]
  },
  {
   "cell_type": "markdown",
   "metadata": {},
   "source": [
    "## Even more complex stimuli\n",
    "\n",
    "Not all stimuli have to be composed of individual building blocks (e.g., envelopes, modulators and carriers). We can also define discrete waveform factories that can be used as-is. For example, chirps."
   ]
  },
  {
   "cell_type": "code",
   "execution_count": null,
   "metadata": {},
   "outputs": [],
   "source": [
    "from psi.token.primitives import ChirpFactory\n",
    "\n",
    "chirp = ChirpFactory(fs=100000, start_frequency=50, end_frequency=5000, \n",
    "                     duration=1, level=94, calibration=calibration)\n",
    "\n",
    "waveform = chirp.next(5000)\n",
    "pl.plot(waveform)"
   ]
  },
  {
   "cell_type": "code",
   "execution_count": null,
   "metadata": {},
   "outputs": [],
   "source": [
    "chirp.get_duration()"
   ]
  },
  {
   "cell_type": "markdown",
   "metadata": {},
   "source": [
    "## Creating your own\n",
    "\n",
    "You would subclass `psi.token.primitives.Waveform` and implement the following methods:\n",
    "    \n",
    "* `__init__`: Where you perform potentially expensive computations (such as the filter coefficients for bandlimited noise)\n",
    "* `reset`: Where you reset any settings that are releavant to incremential generation of the waveform (e.g., the initial state of the filter and the random number generator for bandlimited noise).\n",
    "* `next`: Where you actually generate the waveform.\n",
    "* `get_duration`: The duration of the waveform. Return `np.inf` if continuous.\n",
    "\n",
    "Want to look at an example of a relatively complex waveform? See <a href=\"https://github.com/bburan/psiexperiment/blob/master/psi/token/primitives.enaml#L303\">bandlimited noise</a> or <a href=\"https://github.com/bburan/psiexperiment/blob/master/psi/token/primitives.enaml#L499\">chirps</a>."
   ]
  },
  {
   "cell_type": "markdown",
   "metadata": {},
   "source": [
    "# Defining user-configurable stimuli parameters\n",
    "\n",
    "We use `Enaml`, which is a superset of Python's syntax to create a plugin-oriented system. When running psiexperiment in workbench mode, you have a number of plugins that you can contribute to. One plugin is `psi.context.items`. All items contributed to this plugin will appear in the GUI.\n",
    "\n",
    "You can contribute new context items to this plugin by defining a manifest. A manifest looks like <a href=\"https://github.com/bburan/psiexperiment/blob/master/psi/token/primitives.enaml#L360\">this</a>.\n",
    "\n",
    "Note a few things:\n",
    "\n",
    "* The manifest is linked to the corresponding factory\n",
    "* The manifest defines a list of parameters that can be configured by the user.\n",
    "\n",
    "The details of how a particular waveform's parameters actually appear in the context registry are a bit complex (and can likely be simplified once I have the time). So, let's illustrate a simpler example of how the context plugin works."
   ]
  },
  {
   "cell_type": "code",
   "execution_count": 1,
   "metadata": {},
   "outputs": [
    {
     "name": "stdout",
     "output_type": "stream",
     "text": [
      "No PSIEXPERIMENT_BASE environment variable defined.  Defaulting to the user's home directory, /home/bburan/.config/psi.  In the future, it is recommended that you create a base directory where the paradigm settings, calibration data, log files and data files can be stored.  Once this directory is created, create the environment variable, PSIEXPERIMENT_BASE, with the path to the directory as the value.\n"
     ]
    }
   ],
   "source": [
    "from enaml.workbench.api import Workbench\n",
    "from psi.context.api import ContextManifest\n",
    "from psi.controller.output import ContinuousOutput, EpochOutput\n",
    "from psi.token.primitives import BandlimitedNoise\n",
    "\n",
    "import enaml\n",
    "with enaml.imports():\n",
    "    from simple_manifest import SimpleManifest"
   ]
  },
  {
   "cell_type": "code",
   "execution_count": 2,
   "metadata": {},
   "outputs": [
    {
     "data": {
      "text/plain": [
       "{}"
      ]
     },
     "execution_count": 2,
     "metadata": {},
     "output_type": "execute_result"
    }
   ],
   "source": [
    "workbench = Workbench()\n",
    "workbench.register(ContextManifest())\n",
    "context_plugin = workbench.get_plugin('psi.context')\n",
    "context_plugin.get_context_info()"
   ]
  },
  {
   "cell_type": "code",
   "execution_count": 3,
   "metadata": {},
   "outputs": [
    {
     "data": {
      "text/plain": [
       "{'masker_bandwidth': {'compact_label': 'masker_bandwidth',\n",
       "  'default': None,\n",
       "  'dtype': '|O',\n",
       "  'label': 'masker_bandwidth',\n",
       "  'rove': False}}"
      ]
     },
     "execution_count": 3,
     "metadata": {},
     "output_type": "execute_result"
    }
   ],
   "source": [
    "workbench.register(SimpleManifest())\n",
    "context_plugin.get_context_info()"
   ]
  },
  {
   "cell_type": "code",
   "execution_count": 4,
   "metadata": {
    "collapsed": true,
    "scrolled": false
   },
   "outputs": [],
   "source": [
    "c_output = ContinuousOutput(name='masker')\n",
    "c_output.token = BandlimitedNoise()\n",
    "c_output.load_manifest(workbench)"
   ]
  },
  {
   "cell_type": "code",
   "execution_count": 5,
   "metadata": {},
   "outputs": [
    {
     "name": "stdout",
     "output_type": "stream",
     "text": [
      "masker_level_level\n",
      "masker_seed_seed\n",
      "masker_fl_fl\n",
      "masker_fh_fh\n",
      "masker_filter_rolloff_filter_rolloff\n",
      "masker_passband_attenuation_passband_attenuation\n",
      "masker_stopband_attenuation_stopband_attenuation\n",
      "masker_equalize_equalize\n",
      "masker_bandwidth\n"
     ]
    }
   ],
   "source": [
    "ci = context_plugin.get_context_info()\n",
    "for k in ci.keys():\n",
    "    print(k)"
   ]
  },
  {
   "cell_type": "code",
   "execution_count": 6,
   "metadata": {},
   "outputs": [
    {
     "data": {
      "text/plain": [
       "{'masker_bandwidth': -19900.0,\n",
       " 'masker_equalize_equalize': True,\n",
       " 'masker_fh_fh': 20000.0,\n",
       " 'masker_filter_rolloff_filter_rolloff': 3,\n",
       " 'masker_fl_fl': 100.0,\n",
       " 'masker_level_level': 60.0,\n",
       " 'masker_passband_attenuation_passband_attenuation': 0.1,\n",
       " 'masker_seed_seed': 1,\n",
       " 'masker_stopband_attenuation_stopband_attenuation': 90.0}"
      ]
     },
     "execution_count": 6,
     "metadata": {},
     "output_type": "execute_result"
    }
   ],
   "source": [
    "context_plugin.apply_changes()\n",
    "context_plugin.get_values()"
   ]
  },
  {
   "cell_type": "code",
   "execution_count": null,
   "metadata": {
    "collapsed": true
   },
   "outputs": [],
   "source": []
  }
 ],
 "metadata": {
  "kernelspec": {
   "display_name": "PSI",
   "language": "python",
   "name": "psi"
  },
  "language_info": {
   "codemirror_mode": {
    "name": "ipython",
    "version": 3
   },
   "file_extension": ".py",
   "mimetype": "text/x-python",
   "name": "python",
   "nbconvert_exporter": "python",
   "pygments_lexer": "ipython3",
   "version": "3.6.1"
  }
 },
 "nbformat": 4,
 "nbformat_minor": 2
}
