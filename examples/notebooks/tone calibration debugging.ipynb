{
 "cells": [
  {
   "cell_type": "code",
   "execution_count": null,
   "metadata": {},
   "outputs": [],
   "source": [
    "%matplotlib inline\n",
    "import numpy as np\n",
    "import pylab as pl\n",
    "\n",
    "from psi.controller.calibration.util import load_calibration\n",
    "from psi.controller.calibration import tone\n",
    "from psi.core.enaml.api import load_manifest_from_file\n",
    "\n",
    "frequencies = [250, 500, 1000, 2000, 4000, 8000, 16000, 32000]\n",
    "#frequencies = [8000]\n",
    "\n",
    "io_file = 'c:/psi/io/pika.enaml'\n",
    "cal_file = 'c:/psi/io/pika/default.json'\n",
    "\n",
    "io_manifest = load_manifest_from_file(io_file, 'IOManifest')\n",
    "io = io_manifest()\n",
    "audio_engine = io.find('NI_audio')\n",
    "\n",
    "channels = audio_engine.get_channels(active=False)\n",
    "load_calibration(cal_file, channels)\n",
    "\n",
    "mic_channel = audio_engine.get_channel('microphone_channel')\n",
    "mic_channel.gain = 40\n",
    "print(mic_channel.calibration)\n",
    "\n",
    "speaker_channel = audio_engine.get_channel('speaker_1')\n",
    "print(speaker_channel.calibration)"
   ]
  },
  {
   "cell_type": "code",
   "execution_count": null,
   "metadata": {},
   "outputs": [],
   "source": [
    "fixed_gain_result = tone.tone_sens(\n",
    "    frequencies=frequencies,\n",
    "    engine=audio_engine,\n",
    "    ao_channel_name='speaker_1',\n",
    "    ai_channel_names=['microphone_channel'],\n",
    "    gains=-30,\n",
    "    debug=True,\n",
    "    duration=0.1,\n",
    "    iti=0,\n",
    "    trim=0.01,\n",
    "    repetitions=2,\n",
    ")"
   ]
  },
  {
   "cell_type": "code",
   "execution_count": null,
   "metadata": {},
   "outputs": [],
   "source": [
    "figure, axes = pl.subplots(4, 2)\n",
    "\n",
    "for ax, freq in zip(axes.ravel(), frequencies):\n",
    "    w = fixed_gain_result.loc['microphone_channel', freq]['waveform'].T\n",
    "    ax.plot(w)\n",
    "    ax.set_title(freq)"
   ]
  },
  {
   "cell_type": "code",
   "execution_count": null,
   "metadata": {},
   "outputs": [],
   "source": [
    "from psi.controller.calibration.api import PointCalibration\n",
    "\n",
    "r = fixed_gain_result.loc['microphone_channel']\n",
    "calibration = PointCalibration(r.index, r['sens'])\n",
    "gains = calibration.get_gain(frequencies, 80)"
   ]
  },
  {
   "cell_type": "code",
   "execution_count": null,
   "metadata": {},
   "outputs": [],
   "source": [
    "variable_gain_result = tone.tone_spl(\n",
    "    frequencies=frequencies,\n",
    "    engine=audio_engine,\n",
    "    ao_channel_name='speaker_1',\n",
    "    ai_channel_names=['microphone_channel'],\n",
    "    gains=gains,\n",
    "    debug=True,\n",
    "    duration=0.1,\n",
    "    iti=0,\n",
    "    trim=0.01,\n",
    "    repetitions=2,\n",
    ")\n",
    "\n",
    "variable_gain_result['spl']"
   ]
  },
  {
   "cell_type": "code",
   "execution_count": null,
   "metadata": {},
   "outputs": [],
   "source": []
  }
 ],
 "metadata": {
  "kernelspec": {
   "display_name": "Python 3",
   "language": "python",
   "name": "python3"
  },
  "language_info": {
   "codemirror_mode": {
    "name": "ipython",
    "version": 3
   },
   "file_extension": ".py",
   "mimetype": "text/x-python",
   "name": "python",
   "nbconvert_exporter": "python",
   "pygments_lexer": "ipython3",
   "version": "3.7.3"
  }
 },
 "nbformat": 4,
 "nbformat_minor": 4
}
