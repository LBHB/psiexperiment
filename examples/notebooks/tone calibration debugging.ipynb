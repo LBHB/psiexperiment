{
 "cells": [
  {
   "cell_type": "code",
   "execution_count": null,
   "metadata": {},
   "outputs": [],
   "source": [
    "import numpy as np\n",
    "import pylab as pl\n",
    "import enaml\n",
    "\n",
    "with enaml.imports():\n",
    "    from psi.application.io import pika\n",
    "    from psi.controller.calibration import tone\n",
    "\n",
    "%matplotlib inline"
   ]
  },
  {
   "cell_type": "code",
   "execution_count": null,
   "metadata": {},
   "outputs": [],
   "source": [
    "io_manifest = pika.IOManifest()\n",
    "audio_engine = io_manifest.find('NI_audio')\n",
    "frequencies = [250, 500, 1000, 2000, 4000, 8000, 16000, 32000]"
   ]
  },
  {
   "cell_type": "code",
   "execution_count": null,
   "metadata": {},
   "outputs": [],
   "source": [
    "mic_channel = audio_engine.get_channel('microphone_channel')\n",
    "mic_channel.gain = 40"
   ]
  },
  {
   "cell_type": "code",
   "execution_count": null,
   "metadata": {},
   "outputs": [],
   "source": [
    "result = tone.tone_sens(\n",
    "    frequencies=frequencies,\n",
    "    engine=audio_engine,\n",
    "    ao_channel_name='speaker_1',\n",
    "    ai_channel_names=['microphone_channel'],\n",
    "    gain=-30,\n",
    "    debug=True,\n",
    "    duration=0.1,\n",
    "    iti=0,\n",
    "    trim=0.01,\n",
    ")"
   ]
  },
  {
   "cell_type": "code",
   "execution_count": null,
   "metadata": {},
   "outputs": [],
   "source": [
    "c = result.loc['microphone_channel', ['rms', 'thd', 'spl', 'norm_spl']]\n",
    "print(c)"
   ]
  },
  {
   "cell_type": "code",
   "execution_count": null,
   "metadata": {},
   "outputs": [],
   "source": [
    "f, axes = pl.subplots(len(frequencies), 2, \n",
    "                      sharex=True, figsize=(12, 12))\n",
    "\n",
    "for frequency, (ax1, ax2) in zip(frequencies, axes):\n",
    "    w = result.loc['microphone_channel', frequency]['waveform']\n",
    "    ax1.set_title(frequency)\n",
    "    ax2.set_title(frequency)\n",
    "    ax1.plot(w[0])\n",
    "    ax2.plot(w[1])\n",
    "    ax1.axis(xmin=0, xmax=2000)"
   ]
  },
  {
   "cell_type": "code",
   "execution_count": null,
   "metadata": {},
   "outputs": [],
   "source": []
  }
 ],
 "metadata": {
  "kernelspec": {
   "display_name": "Python 3",
   "language": "python",
   "name": "python3"
  },
  "language_info": {
   "codemirror_mode": {
    "name": "ipython",
    "version": 3
   },
   "file_extension": ".py",
   "mimetype": "text/x-python",
   "name": "python",
   "nbconvert_exporter": "python",
   "pygments_lexer": "ipython3",
   "version": "3.6.2"
  }
 },
 "nbformat": 4,
 "nbformat_minor": 2
}
