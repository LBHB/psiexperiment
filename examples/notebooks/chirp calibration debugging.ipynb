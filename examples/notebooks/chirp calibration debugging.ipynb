{
 "cells": [
  {
   "cell_type": "code",
   "execution_count": null,
   "metadata": {},
   "outputs": [],
   "source": [
    "%matplotlib inline\n",
    "import numpy as np\n",
    "import pandas as pd\n",
    "import pylab as pl\n",
    "\n",
    "from psi.controller.calibration.util import load_calibration\n",
    "from psi.controller.calibration import chirp, tone\n",
    "from psi.core.enaml.api import load_manifest_from_file\n",
    "\n",
    "frequencies = [250, 500, 1000, 2000, 4000, 8000, 16000, 32000]\n",
    "\n",
    "io_file = 'c:/psi-dev/io/pika.enaml'\n",
    "cal_file = 'c:/psi-dev/io/pika/default.json'\n",
    "\n",
    "io_manifest = load_manifest_from_file(io_file, 'IOManifest')\n",
    "io = io_manifest()\n",
    "audio_engine = io.find('NI_audio')\n",
    "\n",
    "channels = audio_engine.get_channels(active=False)\n",
    "load_calibration(cal_file, channels)\n",
    "\n",
    "mic_channel = audio_engine.get_channel('microphone_channel')\n",
    "mic_channel.gain = 40\n",
    "\n",
    "speaker_channel = audio_engine.get_channel('speaker_0')\n",
    "\n",
    "print(mic_channel.calibration)\n",
    "print(speaker_channel.calibration)"
   ]
  },
  {
   "cell_type": "code",
   "execution_count": null,
   "metadata": {},
   "outputs": [],
   "source": [
    "tone_calibration = tone.tone_calibration(\n",
    "    audio_engine, \n",
    "    frequencies, \n",
    "    ao_channel_name='speaker_0',\n",
    "    ai_channel_names=['microphone_channel'],\n",
    "    gain=-30)['microphone_channel']"
   ]
  },
  {
   "cell_type": "code",
   "execution_count": null,
   "metadata": {},
   "outputs": [],
   "source": [
    "chirp_calibration = chirp.chirp_calibration(\n",
    "    engine=audio_engine,\n",
    "    ao_channel_name='speaker_0',\n",
    "    ai_channel_names=['microphone_channel'],\n",
    "    gain=-30,\n",
    "    repetitions=8,\n",
    ")['microphone_channel']"
   ]
  },
  {
   "cell_type": "code",
   "execution_count": null,
   "metadata": {},
   "outputs": [],
   "source": [
    "for f in frequencies:\n",
    "    t = tone_calibration.get_spl(f, 1)\n",
    "    c = chirp_calibration.get_spl(f, 1)\n",
    "    print(f'Tone: {t:0.2f}\\tChirp: {c:0.2f}')"
   ]
  }
 ],
 "metadata": {
  "kernelspec": {
   "display_name": "Python 3",
   "language": "python",
   "name": "python3"
  },
  "language_info": {
   "codemirror_mode": {
    "name": "ipython",
    "version": 3
   },
   "file_extension": ".py",
   "mimetype": "text/x-python",
   "name": "python",
   "nbconvert_exporter": "python",
   "pygments_lexer": "ipython3",
   "version": "3.6.2"
  }
 },
 "nbformat": 4,
 "nbformat_minor": 2
}
