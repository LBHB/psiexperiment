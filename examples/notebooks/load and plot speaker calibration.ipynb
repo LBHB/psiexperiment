{
 "cells": [
  {
   "cell_type": "code",
   "execution_count": null,
   "metadata": {},
   "outputs": [],
   "source": [
    "import pylab as pl\n",
    "\n",
    "%matplotlib inline"
   ]
  },
  {
   "cell_type": "code",
   "execution_count": null,
   "metadata": {},
   "outputs": [],
   "source": [
    "from psi.data.io import bcolz_tools\n",
    "\n",
    "base_path = r'C:\\psi\\data\\20180806-0901 test test right test speaker_calibration'\n",
    "#base_path = r'C:\\psi\\data\\Old\\20180731-0738 Sean empty right empty speaker_calibration'\n",
    "#base_path = r'Z:\\noise exposure pilot data (round 5)\\20180618-0754 Sean empty right empty speaker_calibration'\n",
    "ds = bcolz_tools.Dataset(base_path, ['hw_ai'], ['epoch'])\n",
    "df = ds.extract_epochs_df('hw_ai', 'epoch', ['hw_ao_chirp_level'])"
   ]
  },
  {
   "cell_type": "code",
   "execution_count": null,
   "metadata": {},
   "outputs": [],
   "source": [
    "first = df.loc[-40].iloc[0]\n",
    "mean = df.loc[-40].mean(axis=0)\n",
    "\n",
    "pl.plot(first)\n",
    "pl.plot(mean)\n",
    "pl.axis(xmin=2e-3, xmax=5e-3)\n",
    "\n",
    "#pl.figure()\n",
    "#df.max(axis=1).loc[-40].plot()\n",
    "\n",
    "#pl.plodf.loc[-40, i]"
   ]
  },
  {
   "cell_type": "code",
   "execution_count": null,
   "metadata": {},
   "outputs": [],
   "source": []
  }
 ],
 "metadata": {
  "kernelspec": {
   "display_name": "Python 3",
   "language": "python",
   "name": "python3"
  },
  "language_info": {
   "codemirror_mode": {
    "name": "ipython",
    "version": 3
   },
   "file_extension": ".py",
   "mimetype": "text/x-python",
   "name": "python",
   "nbconvert_exporter": "python",
   "pygments_lexer": "ipython3",
   "version": "3.6.2"
  }
 },
 "nbformat": 4,
 "nbformat_minor": 2
}
